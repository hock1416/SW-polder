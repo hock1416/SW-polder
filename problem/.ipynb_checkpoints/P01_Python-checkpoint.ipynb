{
 "cells": [
  {
   "cell_type": "markdown",
   "metadata": {},
   "source": [
    "- 두 개의 정수 n과 m이 주어집니다. 반복문을 사용하지 않고 별(*) 문자를 이용해 가로의 길이가 n, 세로의 길이가 m인 직사각형 형태를 출력해보세요."
   ]
  },
  {
   "cell_type": "code",
   "execution_count": 26,
   "metadata": {},
   "outputs": [],
   "source": [
    "# 문제\n",
    "n = 5\n",
    "m = 9"
   ]
  },
  {
   "cell_type": "code",
   "execution_count": 30,
   "metadata": {},
   "outputs": [
    {
     "ename": "SyntaxError",
     "evalue": "unexpected character after line continuation character (<ipython-input-30-63718c000253>, line 15)",
     "output_type": "error",
     "traceback": [
      "\u001b[1;36m  File \u001b[1;32m\"<ipython-input-30-63718c000253>\"\u001b[1;36m, line \u001b[1;32m15\u001b[0m\n\u001b[1;33m    print((stars+\\m)*m)\u001b[0m\n\u001b[1;37m                       ^\u001b[0m\n\u001b[1;31mSyntaxError\u001b[0m\u001b[1;31m:\u001b[0m unexpected character after line continuation character\n"
     ]
    }
   ],
   "source": [
    "print ('*****')\n",
    "print ('*****')\n",
    "print ('*****')\n",
    "print ('*****')\n",
    "print ('*****')\n",
    "print ('*****')\n",
    "print ('*****')\n",
    "print ('*****')\n",
    "print ('*****')\n",
    "\n",
    "print ('*****\\n*****\\n*****\\n*****\\n*****\\n*****\\n*****\\n*****\\n*****')\n",
    "\n",
    "star='*'\n",
    "stars=star*n\n",
    "print((stars+\\m)*m)"
   ]
  },
  {
   "cell_type": "markdown",
   "metadata": {},
   "source": [
    "- 다음 딕셔너리에서 평균 점수를 출력하시오."
   ]
  },
  {
   "cell_type": "code",
   "execution_count": 61,
   "metadata": {},
   "outputs": [],
   "source": [
    "# 문제\n",
    "student = {'python': 80, 'algorithm': 99, 'django': 89, 'flask': 83}"
   ]
  },
  {
   "cell_type": "code",
   "execution_count": 63,
   "metadata": {},
   "outputs": [
    {
     "name": "stdout",
     "output_type": "stream",
     "text": [
      "[87.75]\n",
      "python\n",
      "algorithm\n",
      "django\n",
      "flask\n",
      "87.75\n",
      " hi tea bye \n"
     ]
    }
   ],
   "source": [
    "# 정답\n",
    "ave = [(80+99+89+83)/4]\n",
    "print (ave)\n",
    "\n",
    "for subject in student.keys():\n",
    "    print(subject)\n",
    "    \n",
    "result=0\n",
    "\n",
    "for ave2 in student.values():\n",
    "    result=result+ave2\n",
    "print(result/len(student))\n",
    "\n",
    "#len(집합이름) < 하면 그 길이만큼 계산이 됨\n",
    "\n",
    "\n",
    "\n",
    "long=' '\n",
    "\n",
    "words = ['hi','tea','bye']\n",
    "for word in words:\n",
    "    long=long+word+' '\n",
    "    \n",
    "print(long)"
   ]
  },
  {
   "cell_type": "markdown",
   "metadata": {},
   "source": [
    "- 다음은 학생들의 혈액형(A, B, AB, O)에 대한 데이터이다. for문을 이용하여 각 혈액형 별 학생수의 합계를 구하시오."
   ]
  },
  {
   "cell_type": "code",
   "execution_count": 80,
   "metadata": {},
   "outputs": [],
   "source": [
    "# 문제\n",
    "blood_types = ['A', 'B', 'A', 'O', 'AB', 'AB', 'O', 'A', 'B', 'O', 'B', 'AB']"
   ]
  },
  {
   "cell_type": "code",
   "execution_count": 87,
   "metadata": {},
   "outputs": [
    {
     "ename": "SyntaxError",
     "evalue": "invalid syntax (<ipython-input-87-fd2082725eaf>, line 19)",
     "output_type": "error",
     "traceback": [
      "\u001b[1;36m  File \u001b[1;32m\"<ipython-input-87-fd2082725eaf>\"\u001b[1;36m, line \u001b[1;32m19\u001b[0m\n\u001b[1;33m    for dddd for blood_types:\u001b[0m\n\u001b[1;37m               ^\u001b[0m\n\u001b[1;31mSyntaxError\u001b[0m\u001b[1;31m:\u001b[0m invalid syntax\n"
     ]
    }
   ],
   "source": [
    "# 정답\n",
    "type_A = 0\n",
    "type_B = 0\n",
    "type_AB =0 \n",
    "type_O=0\n",
    "for blood in blood_types:\n",
    "    if blood == 'A':\n",
    "        type_A=type_A+1\n",
    "    elif blood=='B':\n",
    "        type_B=type_B+1\n",
    "    elif blood=='AB':\n",
    "        type_AB=type_AB+1\n",
    "    elif blood=='O':\n",
    "        type_O=type_O+1\n",
    "\n",
    "print(type_A,type_B,type_AB,type_O)\n",
    "\n",
    "result={}\n",
    "for dddd for blood_types:\n",
    "    if dddd not in result:\n",
    "        result[dddd]=1\n",
    "print(result[dddd])\n",
    "        \n",
    "    \n",
    "        \n"
   ]
  },
  {
   "cell_type": "code",
   "execution_count": 69,
   "metadata": {},
   "outputs": [
    {
     "name": "stdout",
     "output_type": "stream",
     "text": [
      "13 24\n"
     ]
    }
   ],
   "source": [
    "#for key,value in ~~~ .items():\n",
    "#ex nums={1:3,2:5,4:7,6:9}\n",
    "nums={1:3,2:5,4:7,6:9}\n",
    "\n",
    "result_key=0\n",
    "result_value=0\n",
    "\n",
    "for key,value in nums.items():\n",
    "    result_key=result_key+key\n",
    "    result_value=result_value+value\n",
    "print (result_key, result_value)\n",
    "    \n",
    "    "
   ]
  },
  {
   "cell_type": "code",
   "execution_count": null,
   "metadata": {},
   "outputs": [],
   "source": []
  }
 ],
 "metadata": {
  "kernelspec": {
   "display_name": "Python 3",
   "language": "python",
   "name": "python3"
  },
  "language_info": {
   "codemirror_mode": {
    "name": "ipython",
    "version": 3
   },
   "file_extension": ".py",
   "mimetype": "text/x-python",
   "name": "python",
   "nbconvert_exporter": "python",
   "pygments_lexer": "ipython3",
   "version": "3.6.2"
  },
  "toc": {
   "base_numbering": 1,
   "nav_menu": {},
   "number_sections": true,
   "sideBar": true,
   "skip_h1_title": false,
   "title_cell": "Table of Contents",
   "title_sidebar": "Contents",
   "toc_cell": false,
   "toc_position": {},
   "toc_section_display": true,
   "toc_window_display": false
  }
 },
 "nbformat": 4,
 "nbformat_minor": 2
}
